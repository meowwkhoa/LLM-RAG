{
 "cells": [
  {
   "cell_type": "code",
   "execution_count": 1,
   "id": "637b0e30-029e-4881-af6e-ff5294a69d83",
   "metadata": {},
   "outputs": [],
   "source": [
    "import pandas as pd\n"
   ]
  },
  {
   "cell_type": "code",
   "execution_count": 2,
   "id": "ff6217dd-1bf3-4adb-92b0-21d999848a85",
   "metadata": {},
   "outputs": [],
   "source": [
    "DATA_FP = \"../cnn_dailymail/3.0.0/train-00000-of-00003.parquet\"\n",
    "NUM_ARTICLES = 100\n",
    "\n",
    "# We use Milvus vector database for knowledge base\n",
    "MILVUS_URL = \"http://localhost:19530\"\n",
    "MILVUS_HOST = MILVUS_URL.split(\"//\")[-1].split(\":\")[0]\n",
    "MILVUS_PORT = MILVUS_URL.split(\":\")[-1]\n",
    "MILVUS_COLLECTION_NAME = \"articles_collection\"\n",
    "VECTOR_DIM = 384  # Updated to match the new embedding model\n",
    "EMBEDDING_MODEL_NAME = \"sentence-transformers/paraphrase-MiniLM-L6-v2\"\n",
    "\n",
    "# vLLM OpenAI Compatible Server for LLM\n",
    "VLLM_HOST = \"http://localhost:8000/v1\"\n",
    "LLM_NAME = \"gpt2\"\n",
    "MAX_TOKENS = 512  # Updated to match the new LLM\n",
    "TOP_P = 0.95\n",
    "TEMPERATURE = 0.01\n",
    "PRESENCE_PENALTY = 1.03\n"
   ]
  },
  {
   "cell_type": "code",
   "execution_count": 3,
   "id": "a8495075-7f80-4001-8fdf-d3367f9429f4",
   "metadata": {},
   "outputs": [
    {
     "name": "stdout",
     "output_type": "stream",
     "text": [
      "LONDON, England (Reuters) -- Harry Potter star Daniel Radcliffe gains access to a reported £20 million ($41.1 million) fortune as he turns 18 on Monday, but he insists the money won't cast a spell on him. Daniel Radcliffe as Harry Potter in \"Harry Potter and the Order of the Phoenix\" To the disappointment of gossip columnists around the world, the young actor says he has no plans to fritter his cash away on fast cars, drink and celebrity parties. \"I don't plan to be one of those people who, as soon as they turn 18, suddenly buy themselves a massive sports car collection or something similar,\" he told an Australian interviewer earlier this month. \"I don't think I'll be particularly extravagant. \"The things I like buying are things that cost about 10 pounds -- books and CDs and DVDs.\" At 18, Radcliffe will be able to gamble in a casino, buy a drink in a pub or see the horror film \"Hostel: Part II,\" currently six places below his number one movie on the UK box office chart. Details of how he'll mark his landmark birthday are under wraps. His agent and publicist had no comment on his plans. \"I'll definitely have some sort of party,\" he said in an interview. \"Hopefully none of you will be reading about it.\" Radcliffe's earnings from the first five Potter films have been held in a trust fund which he has not been able to touch. Despite his growing fame and riches, the actor says he is keeping his feet firmly on the ground. \"People are always looking to say 'kid star goes off the rails,'\" he told reporters last month. \"But I try very hard not to go that way because it would be too easy for them.\" His latest outing as the boy wizard in \"Harry Potter and the Order of the Phoenix\" is breaking records on both sides of the Atlantic and he will reprise the role in the last two films.  Watch I-Reporter give her review of Potter's latest » . There is life beyond Potter, however. The Londoner has filmed a TV movie called \"My Boy Jack,\" about author Rudyard Kipling and his son, due for release later this year. He will also appear in \"December Boys,\" an Australian film about four boys who escape an orphanage. Earlier this year, he made his stage debut playing a tortured teenager in Peter Shaffer's \"Equus.\" Meanwhile, he is braced for even closer media scrutiny now that he's legally an adult: \"I just think I'm going to be more sort of fair game,\" he told Reuters. E-mail to a friend . Copyright 2007 Reuters. All rights reserved.This material may not be published, broadcast, rewritten, or redistributed.\n"
     ]
    }
   ],
   "source": [
    "# Read the input data\n",
    "df = pd.read_parquet(DATA_FP)\n",
    "df = df[[\"id\", \"article\"]]\n",
    "# Investigate an article\n",
    "print(df.iloc[0][\"article\"])\n",
    "# Get all articles in a list format\n",
    "articles = df.iloc[:NUM_ARTICLES].to_dict(\"records\")"
   ]
  },
  {
   "cell_type": "markdown",
   "id": "29fb41fe-1781-42cf-83e2-499b9b2b562a",
   "metadata": {},
   "source": [
    "# Ingest data to Milvus"
   ]
  },
  {
   "cell_type": "code",
   "execution_count": 4,
   "id": "89225eb6-09b4-4f53-bec8-dbd8b82851bc",
   "metadata": {
    "scrolled": true
   },
   "outputs": [
    {
     "name": "stderr",
     "output_type": "stream",
     "text": [
      "/home/khoa/anaconda3/envs/chatbot-rag/lib/python3.10/site-packages/sentence_transformers/cross_encoder/CrossEncoder.py:11: TqdmWarning: IProgress not found. Please update jupyter and ipywidgets. See https://ipywidgets.readthedocs.io/en/stable/user_install.html\n",
      "  from tqdm.autonotebook import tqdm, trange\n"
     ]
    }
   ],
   "source": [
    "# Ingest data into Milvus (or any vector database of your choice)\n",
    "from pymilvus import (\n",
    "    MilvusClient,\n",
    "    DataType,\n",
    ")\n",
    "from sentence_transformers import SentenceTransformer\n",
    "\n",
    "# Connect to Milvus\n",
    "milvus_client = MilvusClient(uri=MILVUS_HOST)\n",
    "\n",
    "# Create a collection to store vectors and metadata,\n",
    "# think of it as a table in a traditional SQL database.\n",
    "schema = milvus_client.create_schema(auto_id=False, enable_dynamic_field=False)\n",
    "schema.add_field(\n",
    "    schema=schema,\n",
    "    field_name=\"id\",\n",
    "    datatype=DataType.VARCHAR,\n",
    "    is_primary=True,\n",
    "    max_length=10000,\n",
    ")\n",
    "# This is the vector embedding\n",
    "schema.add_field(\n",
    "    schema=schema, field_name=\"vector\", datatype=DataType.FLOAT_VECTOR, dim=VECTOR_DIM\n",
    ")\n",
    "# This is the corresponding raw text for the vector\n",
    "schema.add_field(\n",
    "    schema=schema, field_name=\"text\", datatype=DataType.VARCHAR, max_length=10000\n",
    ")\n",
    "\n",
    "# Drop the old collection and create a new one\n",
    "if milvus_client.has_collection(MILVUS_COLLECTION_NAME):\n",
    "    milvus_client.drop_collection(MILVUS_COLLECTION_NAME)\n",
    "\n",
    "milvus_client.create_collection(collection_name=MILVUS_COLLECTION_NAME, schema=schema)\n",
    "\n",
    "# Define an embedding model to create vectors from texts,\n",
    "# you can replace by other models\n",
    "transformer = SentenceTransformer(EMBEDDING_MODEL_NAME)\n",
    "\n",
    "# Loop over articles and create embedding vectors\n",
    "data = []\n",
    "for article in articles:\n",
    "    data.append(\n",
    "        {\n",
    "            \"id\": article[\"id\"],\n",
    "            \"vector\": transformer.encode(article[\"article\"]),\n",
    "            \"text\": article[\"article\"],\n",
    "        }\n",
    "    )\n",
    "res = milvus_client.insert(collection_name=MILVUS_COLLECTION_NAME, data=data)"
   ]
  },
  {
   "cell_type": "markdown",
   "id": "c586bd12-8a25-41d2-b804-18177170785b",
   "metadata": {},
   "source": [
    "# Query data via Langchain"
   ]
  },
  {
   "cell_type": "code",
   "execution_count": 5,
   "id": "46ed2230-f757-4527-bb5b-5c302b145d88",
   "metadata": {},
   "outputs": [
    {
     "name": "stderr",
     "output_type": "stream",
     "text": [
      "/tmp/ipykernel_11628/1449126244.py:24: LangChainDeprecationWarning: The class `Milvus` was deprecated in LangChain 0.2.0 and will be removed in 0.3.0. An updated version of the class exists in the langchain-milvus package and should be used instead. To use it run `pip install -U langchain-milvus` and import as `from langchain_milvus import MilvusVectorStore`.\n",
      "  store = Milvus(\n"
     ]
    }
   ],
   "source": [
    "from langchain_huggingface import HuggingFaceEmbeddings\n",
    "from langchain_community.llms.vllm import VLLMOpenAI\n",
    "from langchain.chains import RetrievalQA\n",
    "from langchain_community.vectorstores.milvus import Milvus\n",
    "\n",
    "# We access vLLM via OpenAI compatible server\n",
    "llm = VLLMOpenAI(\n",
    "    openai_api_key=\"EMPTY\",\n",
    "    openai_api_base=VLLM_HOST,\n",
    "    model_name=LLM_NAME,\n",
    "    max_tokens=MAX_TOKENS,\n",
    "    temperature=TEMPERATURE,\n",
    "    streaming=True,\n",
    "    verbose=False,\n",
    ")\n",
    "\n",
    "# We our embedding model reside on cpu\n",
    "model_kwargs = {\"trust_remote_code\": True, \"device\": \"cpu\"}\n",
    "\n",
    "embeddings = HuggingFaceEmbeddings(\n",
    "    model_name=EMBEDDING_MODEL_NAME, model_kwargs=model_kwargs, show_progress=False\n",
    ")\n",
    "\n",
    "store = Milvus(\n",
    "    embedding_function=embeddings,\n",
    "    connection_args={\"host\": MILVUS_HOST, \"port\": MILVUS_PORT},\n",
    "    collection_name=MILVUS_COLLECTION_NAME,\n",
    "    text_field=\"text\",\n",
    "    drop_old=False,\n",
    ")\n",
    "retriever = store.as_retriever(search_type=\"similarity\", search_kwargs={\"k\": 2})\n",
    "\n",
    "qa_chain = RetrievalQA.from_chain_type(\n",
    "    llm=llm, chain_type=\"stuff\", retriever=retriever, return_source_documents=True\n",
    ")"
   ]
  },
  {
   "cell_type": "code",
   "execution_count": 8,
   "id": "5618ce61-6c06-4fd9-8d1a-5977cdb14aff",
   "metadata": {
    "scrolled": true
   },
   "outputs": [
    {
     "name": "stdout",
     "output_type": "stream",
     "text": [
      "{'query': 'Tell me some news about Harry Potter?', 'result': '\\n\\nHarry Potter is a fictional character from the Harry Potter series. He is the son of a wizard and a witch. He is the only member of the family to have a surname.\\n\\nHarry Potter is a fictional character from the Harry Potter series. He is the son of a wizard and a witch. He is the only member of the family to have a surname. Harry Potter is a fictional character from the Harry Potter series. He is the son of a wizard and a witch. He is the only member of the family to have a surname. Harry Potter is a fictional character from the Harry Potter series. He is the son of a wizard and a witch. He is the only member of the family to have a surname. Harry Potter is a fictional character from the Harry Potter series. He is the son of a wizard and a witch. He is the only member of the family to have a surname. Harry Potter is a fictional character from the Harry Potter series. He is the son of a wizard and a witch. He is the only member of the family to have a surname. Harry Potter is a fictional character from the Harry Potter series. He is the son of a wizard and a witch. He is the only member of the family to have a surname. Harry Potter is a fictional character from the Harry Potter series. He is the son of a wizard and a witch. He is the only member of the family to have a surname. Harry Potter is a fictional character from the Harry Potter series. He is the son of a wizard and a witch. He is the only member of the family to have a surname. Harry Potter is a fictional character from the Harry Potter series. He is the son of a wizard and a witch. He is the only member of the family to have a surname. Harry Potter is a fictional character from the Harry Potter series. He is the son of a wizard and a witch. He is the only member of the family to have a surname. Harry Potter is a fictional character from the Harry Potter series. He is the son of a wizard and a witch. He is the only member of the family to have a surname. Harry Potter is a fictional character from the Harry Potter series. He is the son of a wizard and a witch. He is the only member of the family to have a surname. Harry Potter is a fictional character from the Harry Potter series. He is the son of a wizard and a witch. He is the only member of the family to have a surname. Harry Potter is a', 'source_documents': []}\n"
     ]
    }
   ],
   "source": [
    "# Test our chain (retriever and LLM) with a question\n",
    "question = \"Tell me some news about Harry Potter?\"\n",
    "result = qa_chain.invoke({\"query\": question})\n",
    "print(result)"
   ]
  },
  {
   "cell_type": "code",
   "execution_count": null,
   "id": "bd5b8d94-45e9-4039-9df0-b4e876526413",
   "metadata": {},
   "outputs": [],
   "source": []
  }
 ],
 "metadata": {
  "kernelspec": {
   "display_name": "Python 3 (ipykernel)",
   "language": "python",
   "name": "python3"
  },
  "language_info": {
   "codemirror_mode": {
    "name": "ipython",
    "version": 3
   },
   "file_extension": ".py",
   "mimetype": "text/x-python",
   "name": "python",
   "nbconvert_exporter": "python",
   "pygments_lexer": "ipython3",
   "version": "3.10.15"
  }
 },
 "nbformat": 4,
 "nbformat_minor": 5
}
